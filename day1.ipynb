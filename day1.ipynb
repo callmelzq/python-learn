{
 "cells": [
  {
   "cell_type": "code",
   "execution_count": null,
   "metadata": {},
   "outputs": [],
   "source": [
    "1.注释"
   ]
  },
  {
   "cell_type": "code",
   "execution_count": null,
   "metadata": {},
   "outputs": [],
   "source": [
    "# 井号后是注释\n",
    "\n",
    "'''\n",
    "这是多行注释\n",
    "'''\n",
    "\"\"\"\n",
    "这也是多行注释\n",
    "\"\"\"\n",
    "\n",
    "print(\"hello world\")\n"
   ]
  },
  {
   "cell_type": "code",
   "execution_count": null,
   "metadata": {},
   "outputs": [],
   "source": [
    "2.运算符"
   ]
  },
  {
   "cell_type": "code",
   "execution_count": null,
   "metadata": {},
   "outputs": [],
   "source": [
    "## 操作符\t名称\t示例\n",
    "+\t加\t1 + 1\n",
    "-\t减\t2 - 1\n",
    "*\t乘\t3 * 4\n",
    "/\t除\t3 / 4\n",
    "//\t整除（地板除）\t3 // 4\n",
    "%\t取余\t3 % 4\n",
    "**\t幂\t2 ** 3"
   ]
  },
  {
   "cell_type": "code",
   "execution_count": null,
   "metadata": {},
   "outputs": [],
   "source": [
    "操作符\t名称\t示例\n",
    ">\t大于\t2 > 1\n",
    ">=\t大于等于\t2 >= 4\n",
    "<\t小于\t1 < 2\n",
    "<=\t小于等于\t5 <= 2\n",
    "==\t等于\t3 == 4\n",
    "!=\t不等于\t3 != 5"
   ]
  },
  {
   "cell_type": "code",
   "execution_count": null,
   "metadata": {},
   "outputs": [],
   "source": [
    "**类型转换**\n",
    "\n",
    "- 转换为整型 `int(x, base=10)`\n",
    "- 转换为字符串 `str(object='')`\n",
    "- 转换为浮点型 `float(x)`"
   ]
  },
  {
   "cell_type": "code",
   "execution_count": null,
   "metadata": {},
   "outputs": [],
   "source": [
    "## 5. print() 函数\n",
    "\n",
    "print(*objects, sep=' ', end='\\n', file=sys.stdout, flush=False) #sep"
   ]
  },
  {
   "cell_type": "code",
   "execution_count": null,
   "metadata": {},
   "outputs": [],
   "source": [
    "# 位运算\n",
    "\n",
    "## 1. 原码、反码和补码\n",
    "\n",
    "二进制有三种不同的表示形式：原码、反码和补码，<u>计算机内部使用补码来表示</u>。"
   ]
  },
  {
   "cell_type": "code",
   "execution_count": null,
   "metadata": {},
   "outputs": [],
   "source": [
    "**原码**：就是其二进制表示（注意，有一位符号位）。\n",
    "**反码**：正数的反码就是原码，负数的反码是符号位不变，其余位取反（对应正数按位取反）。\n",
    "**补码**：正数的补码就是原码，负数的补码是反码+1。\n",
    "**符号位**：最高位为符号位，0表示正数，1表示负数。在位运算中符号位也参与运算。"
   ]
  },
  {
   "cell_type": "code",
   "execution_count": null,
   "metadata": {},
   "outputs": [],
   "source": [
    "## 2. 按位运算"
   ]
  },
  {
   "cell_type": "code",
   "execution_count": null,
   "metadata": {},
   "outputs": [],
   "source": [
    "- 按位与操作 &  "
   ]
  },
  {
   "cell_type": "code",
   "execution_count": null,
   "metadata": {},
   "outputs": [],
   "source": [
    "1 & 1 = 1\n",
    "1 & 0 = 0\n",
    "0 & 1 = 0\n",
    "0 & 0 = 0"
   ]
  },
  {
   "cell_type": "code",
   "execution_count": null,
   "metadata": {},
   "outputs": [],
   "source": [
    "只有两个对应位都为 1 时才为 1"
   ]
  },
  {
   "cell_type": "code",
   "execution_count": null,
   "metadata": {},
   "outputs": [],
   "source": [
    "- 按位或操作 |"
   ]
  },
  {
   "cell_type": "code",
   "execution_count": null,
   "metadata": {},
   "outputs": [],
   "source": [
    "1 | 1 = 1\n",
    "1 | 0 = 1\n",
    "0 | 1 = 1\n",
    "0 | 0 = 0"
   ]
  },
  {
   "cell_type": "code",
   "execution_count": null,
   "metadata": {},
   "outputs": [],
   "source": [
    "只要两个对应位中有一个 1 时就为 1"
   ]
  },
  {
   "cell_type": "code",
   "execution_count": null,
   "metadata": {},
   "outputs": [],
   "source": [
    "- 按位异或操作 ^"
   ]
  },
  {
   "cell_type": "code",
   "execution_count": null,
   "metadata": {},
   "outputs": [],
   "source": [
    "只有两个对应位不同时才为 1\n",
    "异或操作的性质：满足交换律和结合律"
   ]
  },
  {
   "cell_type": "code",
   "execution_count": null,
   "metadata": {},
   "outputs": [],
   "source": [
    "- 按位左移操作 <<\n",
    "\n",
    "`num << i` 将`num`的二进制表示向左移动`i`位所得的值。\n",
    "- 按位右移操作 >>\n",
    "\n",
    "`num >> i` 将`num`的二进制表示向右移动`i`位所得的值。\n",
    "\n",
    "通过 `<<`，`>>` 快速计算2的倍数问题。"
   ]
  }
 ],
 "metadata": {
  "kernelspec": {
   "display_name": "Python 3",
   "language": "python",
   "name": "python3"
  },
  "language_info": {
   "codemirror_mode": {
    "name": "ipython",
    "version": 3
   },
   "file_extension": ".py",
   "mimetype": "text/x-python",
   "name": "python",
   "nbconvert_exporter": "python",
   "pygments_lexer": "ipython3",
   "version": "3.6.3"
  }
 },
 "nbformat": 4,
 "nbformat_minor": 4
}
